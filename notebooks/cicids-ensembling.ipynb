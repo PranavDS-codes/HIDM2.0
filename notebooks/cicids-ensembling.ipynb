{
 "cells": [
  {
   "cell_type": "code",
   "execution_count": 1,
   "id": "61a00893-fe1d-414c-a00c-689918ebb66b",
   "metadata": {},
   "outputs": [],
   "source": [
    "import pandas as pd\n",
    "import numpy as np\n",
    "from sklearn.model_selection import train_test_split\n",
    "from sklearn.impute import SimpleImputer\n",
    "import pandas as pd\n",
    "import numpy as np\n",
    "from sklearn.ensemble import GradientBoostingClassifier\n",
    "from sklearn.metrics import accuracy_score, roc_auc_score, log_loss, confusion_matrix, roc_curve, auc\n",
    "import matplotlib.pyplot as plt\n",
    "from sklearn.impute import SimpleImputer\n",
    "from sklearn.preprocessing import StandardScaler\n",
    "from sklearn.model_selection import train_test_split\n",
    "import time\n",
    "import joblib"
   ]
  },
  {
   "cell_type": "code",
   "execution_count": 2,
   "id": "6040b556",
   "metadata": {},
   "outputs": [],
   "source": [
    "TEST = r\"C:\\Users\\KIIT\\Desktop\\ONGC\\CICIDS-17\\combined_20_percent.csv\"\n",
    "TRAIN = r\"C:\\Users\\KIIT\\Desktop\\ONGC\\CICIDS-17\\combined_80_percent.csv\"\n",
    "DATA = r\"E:\\ONGC\\CICIDS-17\\binary_all_in_one.csv\""
   ]
  },
  {
   "cell_type": "code",
   "execution_count": 3,
   "id": "9f1815b0-ddda-46aa-a232-ddd9b4c09828",
   "metadata": {
    "scrolled": true
   },
   "outputs": [],
   "source": [
    "df = pd.read_csv(DATA)"
   ]
  },
  {
   "cell_type": "code",
   "execution_count": 10,
   "id": "07f909e4-c805-412c-8167-6c779bac341a",
   "metadata": {},
   "outputs": [],
   "source": [
    "X = df.drop(' Label', axis=1).values\n",
    "y = df[' Label'].values\n",
    "X_train, X_test, y_train, y_test = train_test_split(X, y, test_size=0.2, random_state=42)"
   ]
  },
  {
   "cell_type": "code",
   "execution_count": 4,
   "id": "3eb8179b-cb4a-42bd-a630-4601c99b1a46",
   "metadata": {},
   "outputs": [
    {
     "name": "stdout",
     "output_type": "stream",
     "text": [
      "Number of infinite values and NaN values in each column:\n",
      "Column 'Flow Bytes/s':\n",
      "  Infinite values: 1509\n",
      "  NaN values: 1358\n",
      "\n",
      "Column ' Flow Packets/s':\n",
      "  Infinite values: 2867\n",
      "  NaN values: 0\n",
      "\n"
     ]
    }
   ],
   "source": [
    "import pandas as pd\n",
    "\n",
    "# Check for infinite values in the entire DataFrame\n",
    "infinite_values = df.isin([float('inf'), float('-inf')])\n",
    "\n",
    "# Count the number of infinite values in each column\n",
    "infinite_values_count = infinite_values.sum()\n",
    "\n",
    "# Count the number of NaN values in each column\n",
    "nan_values_count = df.isna().sum()\n",
    "\n",
    "# Print the results\n",
    "print(\"Number of infinite values and NaN values in each column:\")\n",
    "for column in df.columns:\n",
    "    if (infinite_values_count[column] > 0) or (nan_values_count[column] > 0): \n",
    "        print(f\"Column '{column}':\")\n",
    "        print(f\"  Infinite values: {infinite_values_count[column]}\")\n",
    "        print(f\"  NaN values: {nan_values_count[column]}\")\n",
    "        print()\n"
   ]
  },
  {
   "cell_type": "code",
   "execution_count": 5,
   "id": "ca712c39-c0c3-4b8c-a741-7584d98e2b7f",
   "metadata": {},
   "outputs": [],
   "source": [
    "# Replace infinite values with float64 max\n",
    "df.replace([np.inf, -np.inf], np.finfo(np.float64).max, inplace=True)"
   ]
  },
  {
   "cell_type": "code",
   "execution_count": 6,
   "id": "6463525c-79a4-4287-946f-7e3daccf642d",
   "metadata": {},
   "outputs": [
    {
     "name": "stdout",
     "output_type": "stream",
     "text": [
      "Number of infinite values and NaN values in each column:\n",
      "Column 'Flow Bytes/s':\n",
      "  Infinite values: 0\n",
      "  NaN values: 1358\n",
      "\n"
     ]
    }
   ],
   "source": [
    "import pandas as pd\n",
    "\n",
    "# Check for infinite values in the entire DataFrame\n",
    "infinite_values = df.isin([float('inf'), float('-inf')])\n",
    "\n",
    "# Count the number of infinite values in each column\n",
    "infinite_values_count = infinite_values.sum()\n",
    "\n",
    "# Count the number of NaN values in each column\n",
    "nan_values_count = df.isna().sum()\n",
    "\n",
    "# Print the results\n",
    "print(\"Number of infinite values and NaN values in each column:\")\n",
    "for column in df.columns:\n",
    "    if (infinite_values_count[column] > 0) or (nan_values_count[column] > 0): \n",
    "        print(f\"Column '{column}':\")\n",
    "        print(f\"  Infinite values: {infinite_values_count[column]}\")\n",
    "        print(f\"  NaN values: {nan_values_count[column]}\")\n",
    "        print()"
   ]
  },
  {
   "cell_type": "code",
   "execution_count": 8,
   "id": "f55c813c-43e0-4b91-a7d8-8273c61ad4b5",
   "metadata": {
    "scrolled": true
   },
   "outputs": [
    {
     "name": "stderr",
     "output_type": "stream",
     "text": [
      "C:\\ProgramData\\anaconda3\\Lib\\site-packages\\sklearn\\utils\\validation.py:767: FutureWarning: is_sparse is deprecated and will be removed in a future version. Check `isinstance(dtype, pd.SparseDtype)` instead.\n",
      "  if not hasattr(array, \"sparse\") and array.dtypes.apply(is_sparse).any():\n",
      "C:\\ProgramData\\anaconda3\\Lib\\site-packages\\sklearn\\utils\\validation.py:605: FutureWarning: is_sparse is deprecated and will be removed in a future version. Check `isinstance(dtype, pd.SparseDtype)` instead.\n",
      "  if is_sparse(pd_dtype):\n",
      "C:\\ProgramData\\anaconda3\\Lib\\site-packages\\sklearn\\utils\\validation.py:614: FutureWarning: is_sparse is deprecated and will be removed in a future version. Check `isinstance(dtype, pd.SparseDtype)` instead.\n",
      "  if is_sparse(pd_dtype) or not is_extension_array_dtype(pd_dtype):\n",
      "C:\\ProgramData\\anaconda3\\Lib\\site-packages\\sklearn\\utils\\validation.py:767: FutureWarning: is_sparse is deprecated and will be removed in a future version. Check `isinstance(dtype, pd.SparseDtype)` instead.\n",
      "  if not hasattr(array, \"sparse\") and array.dtypes.apply(is_sparse).any():\n",
      "C:\\ProgramData\\anaconda3\\Lib\\site-packages\\sklearn\\utils\\validation.py:605: FutureWarning: is_sparse is deprecated and will be removed in a future version. Check `isinstance(dtype, pd.SparseDtype)` instead.\n",
      "  if is_sparse(pd_dtype):\n",
      "C:\\ProgramData\\anaconda3\\Lib\\site-packages\\sklearn\\utils\\validation.py:614: FutureWarning: is_sparse is deprecated and will be removed in a future version. Check `isinstance(dtype, pd.SparseDtype)` instead.\n",
      "  if is_sparse(pd_dtype) or not is_extension_array_dtype(pd_dtype):\n"
     ]
    }
   ],
   "source": [
    "# Impute NaN values with the median of each column\n",
    "imputer = SimpleImputer(strategy='median')\n",
    "df_mean = pd.DataFrame(imputer.fit_transform(df), columns=df.columns)"
   ]
  },
  {
   "cell_type": "code",
   "execution_count": 9,
   "id": "2a952430-7523-4828-ae17-d868a3d9db9e",
   "metadata": {},
   "outputs": [
    {
     "name": "stdout",
     "output_type": "stream",
     "text": [
      "Number of infinite values and NaN values in each column:\n"
     ]
    }
   ],
   "source": [
    "import pandas as pd\n",
    "\n",
    "# Check for infinite values in the entire DataFrame\n",
    "infinite_values = df_mean.isin([float('inf'), float('-inf')])\n",
    "\n",
    "# Count the number of infinite values in each column\n",
    "infinite_values_count = infinite_values.sum()\n",
    "\n",
    "# Count the number of NaN values in each column\n",
    "nan_values_count = df_mean.isna().sum()\n",
    "\n",
    "# Print the results\n",
    "print(\"Number of infinite values and NaN values in each column:\")\n",
    "for column in df_mean.columns:\n",
    "    if (infinite_values_count[column] > 0) or (nan_values_count[column] > 0): \n",
    "        print(f\"Column '{column}':\")\n",
    "        print(f\"  Infinite values: {infinite_values_count[column]}\")\n",
    "        print(f\"  NaN values: {nan_values_count[column]}\")\n",
    "        print()"
   ]
  },
  {
   "cell_type": "code",
   "execution_count": 10,
   "id": "645fe32e-271e-411f-99e9-ba94d6ca5347",
   "metadata": {},
   "outputs": [],
   "source": [
    "X = df_mean.drop(' Label', axis=1).values\n",
    "y = df_mean[' Label'].values\n",
    "X_train, X_test, y_train, y_test = train_test_split(X, y, test_size=0.2, random_state=42)"
   ]
  },
  {
   "cell_type": "code",
   "execution_count": 11,
   "id": "4baddaee-4d12-457e-94b5-5c28175c9e0c",
   "metadata": {},
   "outputs": [
    {
     "name": "stderr",
     "output_type": "stream",
     "text": [
      "C:\\ProgramData\\anaconda3\\Lib\\site-packages\\numpy\\core\\fromnumeric.py:88: RuntimeWarning: overflow encountered in reduce\n",
      "  return ufunc.reduce(obj, axis, dtype, out, **passkwargs)\n",
      "C:\\ProgramData\\anaconda3\\Lib\\site-packages\\sklearn\\utils\\extmath.py:1072: RuntimeWarning: invalid value encountered in subtract\n",
      "  new_unnormalized_variance -= correction**2 / new_sample_count\n"
     ]
    }
   ],
   "source": [
    "# Scale the data\n",
    "scaler = StandardScaler()\n",
    "X_train = scaler.fit_transform(X_train)\n",
    "X_test = scaler.transform(X_test)"
   ]
  },
  {
   "cell_type": "code",
   "execution_count": 21,
   "id": "a33e9a73-ee2c-4e9e-a4f2-347aed8bebb9",
   "metadata": {},
   "outputs": [
    {
     "name": "stdout",
     "output_type": "stream",
     "text": [
      "Number of rows removed: 1358\n",
      "Number of rows with NaN values removed: 1358\n"
     ]
    }
   ],
   "source": [
    "rows_before_removal = df.shape[0]\n",
    "nan_rows_before_removal = df[df.isna().any(axis=1)].shape[0]\n",
    "\n",
    "# Remove rows with NaN values\n",
    "df_cleaned = df.dropna()\n",
    "\n",
    "# Count the number of rows with NaN values after removing\n",
    "rows_after_removal = df_cleaned.shape[0]\n",
    "nan_rows_after_removal = df_cleaned[df_cleaned.isna().any(axis=1)].shape[0]\n",
    "\n",
    "# Print the number of rows removed\n",
    "rows_removed = rows_before_removal - rows_after_removal\n",
    "nan_rows_removed = nan_rows_before_removal - nan_rows_after_removal\n",
    "print(f\"Number of rows removed: {rows_removed}\")\n",
    "print(f\"Number of rows with NaN values removed: {nan_rows_removed}\")"
   ]
  },
  {
   "cell_type": "code",
   "execution_count": 22,
   "id": "8d803b5a-b487-458a-83d9-b709918c57d8",
   "metadata": {},
   "outputs": [],
   "source": [
    "X = df_cleaned.drop(' Label', axis=1).values\n",
    "y = df_cleaned[' Label'].values\n",
    "X_train, X_test, y_train, y_test = train_test_split(X, y, test_size=0.2, random_state=42)"
   ]
  },
  {
   "cell_type": "code",
   "execution_count": 14,
   "id": "18754949-312a-459f-a017-748e8b3c50e8",
   "metadata": {},
   "outputs": [
    {
     "name": "stdout",
     "output_type": "stream",
     "text": [
      "Number of NaN values in each column:\n",
      "[0 0 0 0 0 0 0 0 0 0 0 0 0 0 0 0 0 0 0 0 0 0 0 0 0 0 0 0 0 0 0 0 0 0 0 0 0\n",
      " 0 0 0 0 0 0 0 0 0 0 0 0 0 0 0 0 0 0 0 0 0 0 0 0 0 0 0 0 0 0 0 0 0 0 0 0 0\n",
      " 0 0 0 0]\n",
      "\n",
      "Total number of NaN values in the entire array: 0\n"
     ]
    }
   ],
   "source": [
    "nan_indices = np.isnan(X)\n",
    "\n",
    "# Count the number of NaN values in each column\n",
    "nan_counts_per_column = np.sum(nan_indices, axis=0)\n",
    "\n",
    "# Count the total number of NaN values in the entire array\n",
    "total_nan_values = np.sum(nan_indices)\n",
    "\n",
    "# Print the results\n",
    "print(\"Number of NaN values in each column:\")\n",
    "print(nan_counts_per_column)\n",
    "\n",
    "print(\"\\nTotal number of NaN values in the entire array:\", total_nan_values)"
   ]
  },
  {
   "cell_type": "markdown",
   "id": "f067c3c4",
   "metadata": {},
   "source": [
    "### Random Forest"
   ]
  },
  {
   "cell_type": "code",
   "execution_count": 10,
   "id": "bf86ac97",
   "metadata": {},
   "outputs": [
    {
     "name": "stderr",
     "output_type": "stream",
     "text": [
      "C:\\Users\\KIIT\\anaconda3\\lib\\site-packages\\numpy\\core\\fromnumeric.py:86: RuntimeWarning: overflow encountered in reduce\n",
      "  return ufunc.reduce(obj, axis, dtype, out, **passkwargs)\n",
      "C:\\Users\\KIIT\\anaconda3\\lib\\site-packages\\numpy\\core\\_methods.py:48: RuntimeWarning: overflow encountered in reduce\n",
      "  return umr_sum(a, axis, dtype, out, keepdims, initial, where)\n",
      "C:\\Users\\KIIT\\anaconda3\\lib\\site-packages\\numpy\\core\\fromnumeric.py:86: RuntimeWarning: overflow encountered in reduce\n",
      "  return ufunc.reduce(obj, axis, dtype, out, **passkwargs)\n",
      "C:\\Users\\KIIT\\anaconda3\\lib\\site-packages\\numpy\\core\\fromnumeric.py:86: RuntimeWarning: overflow encountered in reduce\n",
      "  return ufunc.reduce(obj, axis, dtype, out, **passkwargs)\n"
     ]
    },
    {
     "name": "stdout",
     "output_type": "stream",
     "text": [
      "Training time: 628.23 seconds\n",
      "Testing time: 7.29 seconds\n",
      "AUC: 0.9743\n",
      "Classification Report:\n",
      "               precision    recall  f1-score   support\n",
      "\n",
      "           0       0.99      1.00      0.99    454658\n",
      "           1       1.00      0.95      0.97    111491\n",
      "\n",
      "    accuracy                           0.99    566149\n",
      "   macro avg       0.99      0.97      0.98    566149\n",
      "weighted avg       0.99      0.99      0.99    566149\n",
      "\n",
      "Accuracy: 0.9893\n",
      "MCC: 0.9660\n",
      "Log Loss: 0.0556\n",
      "Confusion Matrix:\n",
      "[[454246    412]\n",
      " [  5640 105851]]\n"
     ]
    }
   ],
   "source": [
    "import pandas as pd\n",
    "import numpy as np\n",
    "from sklearn.ensemble import RandomForestClassifier\n",
    "from sklearn.metrics import accuracy_score, roc_auc_score, classification_report, matthews_corrcoef, log_loss, confusion_matrix\n",
    "from sklearn.impute import SimpleImputer\n",
    "from sklearn.preprocessing import StandardScaler\n",
    "from sklearn.model_selection import train_test_split\n",
    "import time\n",
    "import joblib\n",
    "\n",
    "# Load the dataset from a CSV file and split into train and test sets\n",
    "def load_and_split_dataset(file_path, test_size=0.2, random_state=42):\n",
    "    df = pd.read_csv(file_path)\n",
    "    X = df.drop(' Label', axis=1).values\n",
    "    y = df[' Label'].values\n",
    "    X_train, X_test, y_train, y_test = train_test_split(X, y, test_size=test_size, random_state=random_state)\n",
    "    return X_train, X_test, y_train, y_test\n",
    "\n",
    "# Specify the path to the dataset CSV file\n",
    "dataset_path = DATA\n",
    "\n",
    "# Load and split the dataset\n",
    "X_train, X_test, y_train, y_test = load_and_split_dataset(dataset_path)\n",
    "\n",
    "# Handle infinite and large values\n",
    "X_train[np.isinf(X_train)] = np.finfo('float64').max  # Replace infinite values with a large finite value\n",
    "X_test[np.isinf(X_test)] = np.finfo('float64').max  # Replace infinite values with a large finite value\n",
    "\n",
    "# Handle missing values\n",
    "imputer = SimpleImputer(strategy='mean')\n",
    "X_train = imputer.fit_transform(X_train)\n",
    "X_test = imputer.transform(X_test)\n",
    "\n",
    "# Scale the data\n",
    "scaler = StandardScaler()\n",
    "X_train = scaler.fit_transform(X_train)\n",
    "X_test = scaler.transform(X_test)\n",
    "\n",
    "# Define the hyperparameters\n",
    "n_estimators = 192\n",
    "max_depth = 6\n",
    "min_samples_split = 6\n",
    "random_state = 96\n",
    "\n",
    "# Create a Random Forest classifier\n",
    "classifier = RandomForestClassifier(\n",
    "    n_estimators=n_estimators,\n",
    "    max_depth=max_depth,\n",
    "    min_samples_split=min_samples_split,\n",
    "    random_state=random_state\n",
    ")\n",
    "\n",
    "start_train = time.time()\n",
    "\n",
    "# Train the classifier on the training data\n",
    "classifier.fit(X_train, y_train)\n",
    "\n",
    "end_train = time.time()\n",
    "\n",
    "print(\"Training time: {:.2f} seconds\".format(end_train - start_train))\n",
    "\n",
    "start_test = time.time()\n",
    "\n",
    "# Make predictions on the testing data\n",
    "predictions = classifier.predict(X_test)\n",
    "\n",
    "end_test = time.time()\n",
    "\n",
    "print(\"Testing time: {:.2f} seconds\".format(end_test - start_test))\n",
    "\n",
    "# Calculate evaluation metrics\n",
    "auc = roc_auc_score(y_test, predictions)\n",
    "classification = classification_report(y_test, predictions)\n",
    "accuracy = accuracy_score(y_test, predictions)\n",
    "mcc = matthews_corrcoef(y_test, predictions)\n",
    "logloss = log_loss(y_test, classifier.predict_proba(X_test))\n",
    "\n",
    "# Print the evaluation metrics\n",
    "print(\"AUC: {:.4f}\".format(auc))\n",
    "print(\"Classification Report:\\n\", classification)\n",
    "print(\"Accuracy: {:.4f}\".format(accuracy))\n",
    "print(\"MCC: {:.4f}\".format(mcc))\n",
    "print(\"Log Loss: {:.4f}\".format(logloss))\n",
    "\n",
    "from sklearn.metrics import confusion_matrix\n",
    "# Calculate the confusion matrix\n",
    "conf_matrix = confusion_matrix(y_test, predictions)\n",
    "\n",
    "# Print the confusion matrix\n",
    "print(\"Confusion Matrix:\")\n",
    "print(conf_matrix)\n",
    "\n",
    "# import joblib\n",
    "\n",
    "# # Save the trained classifier model to a file\n",
    "# model_filename = r\"C:\\Users\\KIIT\\Desktop\\SEM-VII\\Major Project\\CICIDS\\RF.pkl\"\n",
    "# joblib.dump(classifier, model_filename)\n",
    "\n",
    "\n",
    "\n"
   ]
  },
  {
   "cell_type": "code",
   "execution_count": 11,
   "id": "5857ce91",
   "metadata": {},
   "outputs": [
    {
     "name": "stderr",
     "output_type": "stream",
     "text": [
      "No artists with labels found to put in legend.  Note that artists whose label start with an underscore are ignored when legend() is called with no argument.\n"
     ]
    },
    {
     "data": {
      "image/png": "[encoded data removed]",
      "text/plain": [
       "<Figure size 640x480 with 1 Axes>"
      ]
     },
     "metadata": {},
     "output_type": "display_data"
    }
   ],
   "source": [
    "from sklearn.metrics import accuracy_score, roc_auc_score, log_loss, confusion_matrix, roc_curve, auc\n",
    "import matplotlib.pyplot as plt\n",
    "\n",
    "# Plot ROC Curve for Neural Network Model\n",
    "y_pred_proba = classifier.predict(X_test)\n",
    "fpr, tpr, thresholds = roc_curve(y_test, y_pred_proba)\n",
    "roc_auc_value = auc(fpr, tpr)\n",
    "\n",
    "plt.figure()\n",
    "plt.plot(fpr, tpr, color='darkorange', lw=2)\n",
    "plt.plot([0, 1], [0, 1], color='navy', lw=2, linestyle='--')\n",
    "plt.xlim([-0.1, 1.1])\n",
    "plt.ylim([-0.1, 1.1])\n",
    "plt.xlabel('False Positive Rate')\n",
    "plt.ylabel('True Positive Rate')\n",
    "plt.title('Receiver Operating Characteristic')\n",
    "plt.legend(loc=\"lower right\")\n",
    "plt.show()"
   ]
  },
  {
   "cell_type": "markdown",
   "id": "efdd5498",
   "metadata": {},
   "source": [
    "### Decision Tree"
   ]
  },
  {
   "cell_type": "code",
   "execution_count": 3,
   "id": "1edafa98",
   "metadata": {},
   "outputs": [
    {
     "name": "stderr",
     "output_type": "stream",
     "text": [
      "C:\\Users\\KIIT\\anaconda3\\lib\\site-packages\\numpy\\core\\fromnumeric.py:86: RuntimeWarning: overflow encountered in reduce\n",
      "  return ufunc.reduce(obj, axis, dtype, out, **passkwargs)\n",
      "C:\\Users\\KIIT\\anaconda3\\lib\\site-packages\\numpy\\core\\_methods.py:48: RuntimeWarning: overflow encountered in reduce\n",
      "  return umr_sum(a, axis, dtype, out, keepdims, initial, where)\n",
      "C:\\Users\\KIIT\\anaconda3\\lib\\site-packages\\numpy\\core\\fromnumeric.py:86: RuntimeWarning: overflow encountered in reduce\n",
      "  return ufunc.reduce(obj, axis, dtype, out, **passkwargs)\n",
      "C:\\Users\\KIIT\\anaconda3\\lib\\site-packages\\numpy\\core\\fromnumeric.py:86: RuntimeWarning: overflow encountered in reduce\n",
      "  return ufunc.reduce(obj, axis, dtype, out, **passkwargs)\n"
     ]
    },
    {
     "name": "stdout",
     "output_type": "stream",
     "text": [
      "Training time: 129.04 seconds\n",
      "Testing time: 0.15 seconds\n",
      "AUC: 0.9999\n",
      "Classification Report:\n",
      "               precision    recall  f1-score   support\n",
      "\n",
      "           0       1.00      1.00      1.00    454658\n",
      "           1       1.00      1.00      1.00    111491\n",
      "\n",
      "    accuracy                           1.00    566149\n",
      "   macro avg       1.00      1.00      1.00    566149\n",
      "weighted avg       1.00      1.00      1.00    566149\n",
      "\n",
      "Accuracy: 0.9999\n",
      "MCC: 0.9997\n",
      "Log Loss: 0.0030\n",
      "Confusion Matrix:\n",
      "[[454622     36]\n",
      " [    13 111478]]\n"
     ]
    }
   ],
   "source": [
    "import pandas as pd\n",
    "import numpy as np\n",
    "from sklearn.tree import DecisionTreeClassifier\n",
    "from sklearn.metrics import accuracy_score, roc_auc_score, classification_report, matthews_corrcoef, log_loss\n",
    "from sklearn.impute import SimpleImputer\n",
    "from sklearn.preprocessing import StandardScaler\n",
    "from sklearn.model_selection import train_test_split\n",
    "import time\n",
    "\n",
    "# Load the dataset from a CSV file and split into train and test sets\n",
    "def load_and_split_dataset(file_path, test_size=0.2, random_state=42):\n",
    "    df = pd.read_csv(file_path)\n",
    "    X = df.drop(' Label', axis=1).values\n",
    "    y = df[' Label'].values\n",
    "    X_train, X_test, y_train, y_test = train_test_split(X, y, test_size=test_size, random_state=random_state)\n",
    "    return X_train, X_test, y_train, y_test\n",
    "\n",
    "# Specify the path to the dataset CSV file\n",
    "dataset_path = DATA\n",
    "\n",
    "# Load and split the dataset\n",
    "X_train, X_test, y_train, y_test = load_and_split_dataset(dataset_path)\n",
    "\n",
    "# Handle infinite and large values\n",
    "X_train[np.isinf(X_train)] = np.finfo('float64').max  # Replace infinite values with a large finite value\n",
    "X_test[np.isinf(X_test)] = np.finfo('float64').max  # Replace infinite values with a large finite value\n",
    "\n",
    "# Handle missing values\n",
    "imputer = SimpleImputer(strategy='mean')\n",
    "X_train = imputer.fit_transform(X_train)\n",
    "X_test = imputer.transform(X_test)\n",
    "\n",
    "# Scale the data\n",
    "scaler = StandardScaler()\n",
    "X_train = scaler.fit_transform(X_train)\n",
    "X_test = scaler.transform(X_test)\n",
    "\n",
    "start_train = time.time()\n",
    "\n",
    "# Create a Decision Tree classifier\n",
    "classifier = DecisionTreeClassifier()\n",
    "\n",
    "# Train the classifier on the training data\n",
    "classifier.fit(X_train, y_train)\n",
    "\n",
    "end_train = time.time()\n",
    "\n",
    "print(\"Training time: {:.2f} seconds\".format(end_train - start_train))\n",
    "\n",
    "start_test = time.time()\n",
    "\n",
    "# Make predictions on the testing data\n",
    "predictions = classifier.predict(X_test)\n",
    "\n",
    "end_test = time.time()\n",
    "\n",
    "print(\"Testing time: {:.2f} seconds\".format(end_test - start_test))\n",
    "\n",
    "# Calculate evaluation metrics\n",
    "auc = roc_auc_score(y_test, predictions)\n",
    "classification = classification_report(y_test, predictions)\n",
    "accuracy = accuracy_score(y_test, predictions)\n",
    "mcc = matthews_corrcoef(y_test, predictions)\n",
    "logloss = log_loss(y_test, classifier.predict_proba(X_test))\n",
    "\n",
    "# Print the evaluation metrics\n",
    "print(\"AUC: {:.4f}\".format(auc))\n",
    "print(\"Classification Report:\\n\", classification)\n",
    "print(\"Accuracy: {:.4f}\".format(accuracy))\n",
    "print(\"MCC: {:.4f}\".format(mcc))\n",
    "print(\"Log Loss: {:.4f}\".format(logloss))\n",
    "\n",
    "from sklearn.metrics import confusion_matrix\n",
    "# Calculate the confusion matrix\n",
    "conf_matrix = confusion_matrix(y_test, predictions)\n",
    "\n",
    "# Print the confusion matrix\n",
    "print(\"Confusion Matrix:\")\n",
    "print(conf_matrix)\n",
    "\n",
    "# import joblib\n",
    "\n",
    "# # Save the trained classifier model to a file\n",
    "# model_filename = r\"C:\\Users\\KIIT\\Desktop\\SEM-VII\\Major Project\\CICIDS\\DT.pkl\"\n",
    "# joblib.dump(classifier, model_filename)\n"
   ]
  },
  {
   "cell_type": "code",
   "execution_count": 7,
   "id": "16163147",
   "metadata": {},
   "outputs": [
    {
     "name": "stderr",
     "output_type": "stream",
     "text": [
      "No artists with labels found to put in legend.  Note that artists whose label start with an underscore are ignored when legend() is called with no argument.\n"
     ]
    },
    {
     "data": {
      "image/png": "[encoded data removed]",
      "text/plain": [
       "<Figure size 640x480 with 1 Axes>"
      ]
     },
     "metadata": {},
     "output_type": "display_data"
    }
   ],
   "source": [
    "from sklearn.metrics import accuracy_score, roc_auc_score, log_loss, confusion_matrix, roc_curve, auc\n",
    "import matplotlib.pyplot as plt\n",
    "\n",
    "# Plot ROC Curve for Neural Network Model\n",
    "y_pred_proba = classifier.predict(X_test)\n",
    "fpr, tpr, thresholds = roc_curve(y_test, y_pred_proba)\n",
    "roc_auc_value = auc(fpr, tpr)\n",
    "\n",
    "plt.figure()\n",
    "plt.plot(fpr, tpr, color='darkorange', lw=2)\n",
    "plt.plot([0, 1], [0, 1], color='navy', lw=2, linestyle='--')\n",
    "plt.xlim([-0.1, 1.1])\n",
    "plt.ylim([-0.1, 1.1])\n",
    "plt.xlabel('False Positive Rate')\n",
    "plt.ylabel('True Positive Rate')\n",
    "plt.title('Receiver Operating Characteristic')\n",
    "plt.legend(loc=\"lower right\")\n",
    "plt.show()"
   ]
  },
  {
   "cell_type": "markdown",
   "id": "275c2c35",
   "metadata": {},
   "source": [
    "### Extremely Randomized Tree"
   ]
  },
  {
   "cell_type": "code",
   "execution_count": 12,
   "id": "de7c0f37",
   "metadata": {},
   "outputs": [
    {
     "name": "stderr",
     "output_type": "stream",
     "text": [
      "C:\\Users\\KIIT\\anaconda3\\lib\\site-packages\\numpy\\core\\fromnumeric.py:86: RuntimeWarning: overflow encountered in reduce\n",
      "  return ufunc.reduce(obj, axis, dtype, out, **passkwargs)\n",
      "C:\\Users\\KIIT\\anaconda3\\lib\\site-packages\\numpy\\core\\_methods.py:48: RuntimeWarning: overflow encountered in reduce\n",
      "  return umr_sum(a, axis, dtype, out, keepdims, initial, where)\n",
      "C:\\Users\\KIIT\\anaconda3\\lib\\site-packages\\numpy\\core\\fromnumeric.py:86: RuntimeWarning: overflow encountered in reduce\n",
      "  return ufunc.reduce(obj, axis, dtype, out, **passkwargs)\n",
      "C:\\Users\\KIIT\\anaconda3\\lib\\site-packages\\numpy\\core\\fromnumeric.py:86: RuntimeWarning: overflow encountered in reduce\n",
      "  return ufunc.reduce(obj, axis, dtype, out, **passkwargs)\n"
     ]
    },
    {
     "name": "stdout",
     "output_type": "stream",
     "text": [
      "Training time: 239.62 seconds\n",
      "Testing time: 7.61 seconds\n",
      "AUC: 0.9997\n",
      "Classification Report:\n",
      "               precision    recall  f1-score   support\n",
      "\n",
      "           0       1.00      1.00      1.00    454658\n",
      "           1       1.00      1.00      1.00    111491\n",
      "\n",
      "    accuracy                           1.00    566149\n",
      "   macro avg       1.00      1.00      1.00    566149\n",
      "weighted avg       1.00      1.00      1.00    566149\n",
      "\n",
      "Accuracy: 0.9998\n",
      "MCC: 0.9995\n",
      "Log Loss: 0.0007\n",
      "Confusion Matrix:\n",
      "[[454627     31]\n",
      " [    60 111431]]\n"
     ]
    }
   ],
   "source": [
    "import pandas as pd\n",
    "import numpy as np\n",
    "from sklearn.ensemble import ExtraTreesClassifier\n",
    "from sklearn.metrics import accuracy_score, roc_auc_score, classification_report, matthews_corrcoef, log_loss\n",
    "from sklearn.impute import SimpleImputer\n",
    "from sklearn.preprocessing import StandardScaler\n",
    "from sklearn.model_selection import train_test_split\n",
    "import time\n",
    "\n",
    "# Load the dataset from a CSV file and split into train and test sets\n",
    "def load_and_split_dataset(file_path, test_size=0.2, random_state=42):\n",
    "    df = pd.read_csv(file_path)\n",
    "    X = df.drop(' Label', axis=1).values\n",
    "    y = df[' Label'].values\n",
    "    X_train, X_test, y_train, y_test = train_test_split(X, y, test_size=test_size, random_state=random_state)\n",
    "    return X_train, X_test, y_train, y_test\n",
    "\n",
    "# Specify the path to the dataset CSV file\n",
    "dataset_path = DATA\n",
    "\n",
    "# Load and split the dataset\n",
    "X_train, X_test, y_train, y_test = load_and_split_dataset(dataset_path)\n",
    "\n",
    "# Handle infinite and large values\n",
    "X_train[np.isinf(X_train)] = np.finfo('float64').max  # Replace infinite values with a large finite value\n",
    "X_test[np.isinf(X_test)] = np.finfo('float64').max  # Replace infinite values with a large finite value\n",
    "\n",
    "# Handle missing values\n",
    "imputer = SimpleImputer(strategy='mean')\n",
    "X_train = imputer.fit_transform(X_train)\n",
    "X_test = imputer.transform(X_test)\n",
    "\n",
    "# Scale the data\n",
    "scaler = StandardScaler()\n",
    "X_train = scaler.fit_transform(X_train)\n",
    "X_test = scaler.transform(X_test)\n",
    "\n",
    "start_train = time.time()\n",
    "\n",
    "# Create an Extra Trees classifier\n",
    "classifier = ExtraTreesClassifier()\n",
    "\n",
    "# Train the classifier on the training data\n",
    "classifier.fit(X_train, y_train)\n",
    "\n",
    "end_train = time.time()\n",
    "\n",
    "print(\"Training time: {:.2f} seconds\".format(end_train - start_train))\n",
    "\n",
    "start_test = time.time()\n",
    "\n",
    "# Make predictions on the testing data\n",
    "predictions = classifier.predict(X_test)\n",
    "\n",
    "end_test = time.time()\n",
    "\n",
    "print(\"Testing time: {:.2f} seconds\".format(end_test - start_test))\n",
    "\n",
    "# Calculate evaluation metrics\n",
    "auc = roc_auc_score(y_test, predictions)\n",
    "classification = classification_report(y_test, predictions)\n",
    "accuracy = accuracy_score(y_test, predictions)\n",
    "mcc = matthews_corrcoef(y_test, predictions)\n",
    "logloss = log_loss(y_test, classifier.predict_proba(X_test))\n",
    "\n",
    "# Print the evaluation metrics\n",
    "print(\"AUC: {:.4f}\".format(auc))\n",
    "print(\"Classification Report:\\n\", classification)\n",
    "print(\"Accuracy: {:.4f}\".format(accuracy))\n",
    "print(\"MCC: {:.4f}\".format(mcc))\n",
    "print(\"Log Loss: {:.4f}\".format(logloss))\n",
    "\n",
    "from sklearn.metrics import confusion_matrix\n",
    "# Calculate the confusion matrix\n",
    "conf_matrix = confusion_matrix(y_test, predictions)\n",
    "\n",
    "# Print the confusion matrix\n",
    "print(\"Confusion Matrix:\")\n",
    "print(conf_matrix)\n",
    "\n",
    "# import joblib\n",
    "\n",
    "# # # Save the trained classifier model to a file\n",
    "# # model_filename = r\"C:\\Users\\KIIT\\Desktop\\SEM-VII\\Major Project\\CICIDS\\ET.pkl\"\n",
    "# # joblib.dump(classifier, model_filename)"
   ]
  },
  {
   "cell_type": "code",
   "execution_count": 13,
   "id": "53676ad9",
   "metadata": {},
   "outputs": [
    {
     "name": "stderr",
     "output_type": "stream",
     "text": [
      "No artists with labels found to put in legend.  Note that artists whose label start with an underscore are ignored when legend() is called with no argument.\n"
     ]
    },
    {
     "data": {
      "image/png": "[encoded data removed]",
      "text/plain": [
       "<Figure size 640x480 with 1 Axes>"
      ]
     },
     "metadata": {},
     "output_type": "display_data"
    }
   ],
   "source": [
    "from sklearn.metrics import accuracy_score, roc_auc_score, log_loss, confusion_matrix, roc_curve, auc\n",
    "import matplotlib.pyplot as plt\n",
    "\n",
    "# Plot ROC Curve for Neural Network Model\n",
    "y_pred_proba = classifier.predict(X_test)\n",
    "fpr, tpr, thresholds = roc_curve(y_test, y_pred_proba)\n",
    "roc_auc_value = auc(fpr, tpr)\n",
    "\n",
    "plt.figure()\n",
    "plt.plot(fpr, tpr, color='darkorange', lw=2)\n",
    "plt.plot([0, 1], [0, 1], color='navy', lw=2, linestyle='--')\n",
    "plt.xlim([-0.1, 1.1])\n",
    "plt.ylim([-0.1, 1.1])\n",
    "plt.xlabel('False Positive Rate')\n",
    "plt.ylabel('True Positive Rate')\n",
    "plt.title('Receiver Operating Characteristic')\n",
    "plt.legend(loc=\"lower right\")\n",
    "plt.show()"
   ]
  },
  {
   "cell_type": "markdown",
   "id": "fe87a715",
   "metadata": {},
   "source": [
    "### AdaBoost"
   ]
  },
  {
   "cell_type": "code",
   "execution_count": 14,
   "id": "aa21cbca",
   "metadata": {},
   "outputs": [
    {
     "name": "stderr",
     "output_type": "stream",
     "text": [
      "C:\\Users\\KIIT\\anaconda3\\lib\\site-packages\\numpy\\core\\fromnumeric.py:86: RuntimeWarning: overflow encountered in reduce\n",
      "  return ufunc.reduce(obj, axis, dtype, out, **passkwargs)\n",
      "C:\\Users\\KIIT\\anaconda3\\lib\\site-packages\\numpy\\core\\_methods.py:48: RuntimeWarning: overflow encountered in reduce\n",
      "  return umr_sum(a, axis, dtype, out, keepdims, initial, where)\n",
      "C:\\Users\\KIIT\\anaconda3\\lib\\site-packages\\numpy\\core\\fromnumeric.py:86: RuntimeWarning: overflow encountered in reduce\n",
      "  return ufunc.reduce(obj, axis, dtype, out, **passkwargs)\n",
      "C:\\Users\\KIIT\\anaconda3\\lib\\site-packages\\numpy\\core\\fromnumeric.py:86: RuntimeWarning: overflow encountered in reduce\n",
      "  return ufunc.reduce(obj, axis, dtype, out, **passkwargs)\n"
     ]
    },
    {
     "name": "stdout",
     "output_type": "stream",
     "text": [
      "Training time: 443.83 seconds\n",
      "Testing time: 7.70 seconds\n",
      "AUC: 0.9991\n",
      "Classification Report:\n",
      "               precision    recall  f1-score   support\n",
      "\n",
      "           0       1.00      1.00      1.00    454658\n",
      "           1       1.00      1.00      1.00    111491\n",
      "\n",
      "    accuracy                           1.00    566149\n",
      "   macro avg       1.00      1.00      1.00    566149\n",
      "weighted avg       1.00      1.00      1.00    566149\n",
      "\n",
      "Accuracy: 0.9996\n",
      "MCC: 0.9989\n",
      "Log Loss: 0.4588\n",
      "Confusion Matrix:\n",
      "[[454656      2]\n",
      " [   203 111288]]\n"
     ]
    }
   ],
   "source": [
    "import pandas as pd\n",
    "import numpy as np\n",
    "from sklearn.ensemble import AdaBoostClassifier\n",
    "from sklearn.metrics import accuracy_score, roc_auc_score, classification_report, matthews_corrcoef, log_loss\n",
    "from sklearn.impute import SimpleImputer\n",
    "from sklearn.preprocessing import StandardScaler\n",
    "from sklearn.model_selection import train_test_split\n",
    "import time\n",
    "\n",
    "# Load the dataset from a CSV file and split into train and test sets\n",
    "def load_and_split_dataset(file_path, test_size=0.2, random_state=42):\n",
    "    df = pd.read_csv(file_path)\n",
    "    X = df.drop(' Label', axis=1).values\n",
    "    y = df[' Label'].values\n",
    "    X_train, X_test, y_train, y_test = train_test_split(X, y, test_size=test_size, random_state=random_state)\n",
    "    return X_train, X_test, y_train, y_test\n",
    "\n",
    "# Specify the path to the dataset CSV file\n",
    "dataset_path = DATA\n",
    "\n",
    "# Load and split the dataset\n",
    "X_train, X_test, y_train, y_test = load_and_split_dataset(dataset_path)\n",
    "\n",
    "# Handle infinite and large values\n",
    "X_train[np.isinf(X_train)] = np.finfo('float64').max  # Replace infinite values with a large finite value\n",
    "X_test[np.isinf(X_test)] = np.finfo('float64').max  # Replace infinite values with a large finite value\n",
    "\n",
    "# Handle missing values\n",
    "imputer = SimpleImputer(strategy='mean')\n",
    "X_train = imputer.fit_transform(X_train)\n",
    "X_test = imputer.transform(X_test)\n",
    "\n",
    "# Scale the data\n",
    "scaler = StandardScaler()\n",
    "X_train = scaler.fit_transform(X_train)\n",
    "X_test = scaler.transform(X_test)\n",
    "\n",
    "start_train = time.time()\n",
    "\n",
    "# Create an AdaBoost classifier\n",
    "classifier = AdaBoostClassifier()\n",
    "\n",
    "# Train the classifier on the training data\n",
    "classifier.fit(X_train, y_train)\n",
    "\n",
    "end_train = time.time()\n",
    "\n",
    "print(\"Training time: {:.2f} seconds\".format(end_train - start_train))\n",
    "\n",
    "start_test = time.time()\n",
    "\n",
    "# Make predictions on the testing data\n",
    "predictions = classifier.predict(X_test)\n",
    "\n",
    "end_test = time.time()\n",
    "\n",
    "print(\"Testing time: {:.2f} seconds\".format(end_test - start_test))\n",
    "\n",
    "# Calculate evaluation metrics\n",
    "auc = roc_auc_score(y_test, predictions)\n",
    "classification = classification_report(y_test, predictions)\n",
    "accuracy = accuracy_score(y_test, predictions)\n",
    "mcc = matthews_corrcoef(y_test, predictions)\n",
    "logloss = log_loss(y_test, classifier.predict_proba(X_test))\n",
    "\n",
    "# Print the evaluation metrics\n",
    "print(\"AUC: {:.4f}\".format(auc))\n",
    "print(\"Classification Report:\\n\", classification)\n",
    "print(\"Accuracy: {:.4f}\".format(accuracy))\n",
    "print(\"MCC: {:.4f}\".format(mcc))\n",
    "print(\"Log Loss: {:.4f}\".format(logloss))\n",
    "\n",
    "from sklearn.metrics import confusion_matrix\n",
    "# Calculate the confusion matrix\n",
    "conf_matrix = confusion_matrix(y_test, predictions)\n",
    "\n",
    "# Print the confusion matrix\n",
    "print(\"Confusion Matrix:\")\n",
    "print(conf_matrix)\n",
    "\n",
    "# import joblib\n",
    "\n",
    "# # Save the trained classifier model to a file\n",
    "# model_filename = r\"C:\\Users\\KIIT\\Desktop\\SEM-VII\\Major Project\\CICIDS\\AdaB.pkl\"\n",
    "# joblib.dump(classifier, model_filename)\n"
   ]
  },
  {
   "cell_type": "code",
   "execution_count": 15,
   "id": "ed8e472c",
   "metadata": {},
   "outputs": [
    {
     "name": "stderr",
     "output_type": "stream",
     "text": [
      "No artists with labels found to put in legend.  Note that artists whose label start with an underscore are ignored when legend() is called with no argument.\n"
     ]
    },
    {
     "data": {
      "image/png": "[encoded data removed]",
      "text/plain": [
       "<Figure size 640x480 with 1 Axes>"
      ]
     },
     "metadata": {},
     "output_type": "display_data"
    }
   ],
   "source": [
    "from sklearn.metrics import accuracy_score, roc_auc_score, log_loss, confusion_matrix, roc_curve, auc\n",
    "import matplotlib.pyplot as plt\n",
    "\n",
    "# Plot ROC Curve for Neural Network Model\n",
    "y_pred_proba = classifier.predict(X_test)\n",
    "fpr, tpr, thresholds = roc_curve(y_test, y_pred_proba)\n",
    "roc_auc_value = auc(fpr, tpr)\n",
    "\n",
    "plt.figure()\n",
    "plt.plot(fpr, tpr, color='darkorange', lw=2)\n",
    "plt.plot([0, 1], [0, 1], color='navy', lw=2, linestyle='--')\n",
    "plt.xlim([-0.1, 1.1])\n",
    "plt.ylim([-0.1, 1.1])\n",
    "plt.xlabel('False Positive Rate')\n",
    "plt.ylabel('True Positive Rate')\n",
    "plt.title('Receiver Operating Characteristic')\n",
    "plt.legend(loc=\"lower right\")\n",
    "plt.show()"
   ]
  },
  {
   "cell_type": "code",
   "execution_count": 16,
   "id": "952fb06f",
   "metadata": {},
   "outputs": [],
   "source": [
    "MODEL_GB = r\"C:\\Users\\KIIT\\Desktop\\SEM-VII\\Major Project\\CICIDS\\GB.pkl\"\n",
    "MODEL_RF = r\"C:\\Users\\KIIT\\Desktop\\SEM-VII\\Major Project\\CICIDS\\RF.pkl\"\n",
    "MODEL_DT = r\"C:\\Users\\KIIT\\Desktop\\SEM-VII\\Major Project\\CICIDS\\DT.pkl\"\n",
    "MODEL_ET = r\"C:\\Users\\KIIT\\Desktop\\SEM-VII\\Major Project\\CICIDS\\ET.pkl\"\n",
    "MODEL_AdaB = r\"C:\\Users\\KIIT\\Desktop\\SEM-VII\\Major Project\\CICIDS\\AdaB.pkl\"\n",
    "MODEL_NN = r\"C:\\Users\\KIIT\\Desktop\\SEM-VII\\Major Project\\CICIDS\\NN.pkl\""
   ]
  },
  {
   "cell_type": "markdown",
   "id": "3b2d3673",
   "metadata": {},
   "source": [
    "# Ensemble Voting Method"
   ]
  },
  {
   "cell_type": "code",
   "execution_count": 21,
   "id": "97f68d92",
   "metadata": {},
   "outputs": [
    {
     "name": "stderr",
     "output_type": "stream",
     "text": [
      "C:\\Users\\KIIT\\anaconda3\\lib\\site-packages\\numpy\\core\\fromnumeric.py:86: RuntimeWarning: overflow encountered in reduce\n",
      "  return ufunc.reduce(obj, axis, dtype, out, **passkwargs)\n",
      "C:\\Users\\KIIT\\anaconda3\\lib\\site-packages\\numpy\\core\\_methods.py:48: RuntimeWarning: overflow encountered in reduce\n",
      "  return umr_sum(a, axis, dtype, out, keepdims, initial, where)\n",
      "C:\\Users\\KIIT\\anaconda3\\lib\\site-packages\\numpy\\core\\fromnumeric.py:86: RuntimeWarning: overflow encountered in reduce\n",
      "  return ufunc.reduce(obj, axis, dtype, out, **passkwargs)\n",
      "C:\\Users\\KIIT\\anaconda3\\lib\\site-packages\\numpy\\core\\fromnumeric.py:86: RuntimeWarning: overflow encountered in reduce\n",
      "  return ufunc.reduce(obj, axis, dtype, out, **passkwargs)\n"
     ]
    },
    {
     "name": "stdout",
     "output_type": "stream",
     "text": [
      "Confusion Matrix:\n",
      "[[454657      1]\n",
      " [   198 111293]]\n",
      "Accuracy: 0.99964850\n",
      "AUC: 0.99911094\n",
      "Log Loss: 0.4588\n"
     ]
    },
    {
     "data": {
      "image/png": "[encoded data removed]",
      "text/plain": [
       "<Figure size 640x480 with 1 Axes>"
      ]
     },
     "metadata": {},
     "output_type": "display_data"
    }
   ],
   "source": [
    "import pandas as pd\n",
    "import numpy as np\n",
    "import pickle\n",
    "from sklearn.metrics import confusion_matrix, accuracy_score, log_loss, roc_auc_score\n",
    "import pandas as pd\n",
    "import numpy as np\n",
    "from sklearn.ensemble import GradientBoostingClassifier\n",
    "from sklearn.metrics import accuracy_score, roc_auc_score, classification_report, matthews_corrcoef, log_loss, confusion_matrix\n",
    "from sklearn.impute import SimpleImputer\n",
    "from sklearn.preprocessing import StandardScaler\n",
    "from sklearn.model_selection import train_test_split\n",
    "import time\n",
    "import joblib\n",
    "\n",
    "def plot_roc_curve(y_true, y_scores):\n",
    "    fpr, tpr, thresholds = roc_curve(y_true, y_scores)\n",
    "    roc_auc = auc(fpr, tpr)\n",
    "    \n",
    "    plt.figure()\n",
    "    plt.plot(fpr, tpr, color='darkorange', lw=2, label='ROC curve (area = {:.2f})'.format(roc_auc))\n",
    "    plt.plot([0, 1], [0, 1], color='navy', lw=2, linestyle='--')\n",
    "    plt.xlim([-0.1, 1.1])\n",
    "    plt.ylim([-0.1, 1.1])\n",
    "    plt.xlabel('False Positive Rate')\n",
    "    plt.ylabel('True Positive Rate')\n",
    "    plt.title('Receiver Operating Characteristic')\n",
    "    plt.legend(loc=\"lower right\")\n",
    "    plt.show()\n",
    "\n",
    "def load_models(model_paths):\n",
    "    models = []\n",
    "    for path in model_paths:\n",
    "        model = joblib.load(path)\n",
    "        models.append(model)\n",
    "    return models\n",
    "\n",
    "def ensemble_voting(models, data):\n",
    "    predictions = []\n",
    "    for model in models:\n",
    "        prediction = model.predict(data)\n",
    "        predictions.append(prediction.astype(int))  # Convert predictions to integers\n",
    "    final_predictions = np.apply_along_axis(lambda x: np.argmax(np.bincount(x)), axis=0, arr=predictions)\n",
    "    return final_predictions\n",
    "\n",
    "def main(dataset_path, model_paths):\n",
    "    # Load the dataset\n",
    "    dataset = pd.read_csv(dataset_path)\n",
    "\n",
    "    # Extract features (X) and labels (y)\n",
    "    X = dataset.drop(' Label', axis=1)  \n",
    "    y = dataset[' Label']  \n",
    "\n",
    "    # Split the dataset into training and testing sets\n",
    "    X_train, X_test, y_train, y_test = train_test_split(X, y, test_size=0.2, random_state=42)\n",
    "    \n",
    "    # Handle infinite and large values\n",
    "    X_train[np.isinf(X_train)] = np.finfo('float64').max  # Replace infinite values with a large finite value\n",
    "    X_test[np.isinf(X_test)] = np.finfo('float64').max  # Replace infinite values with a large finite value\n",
    "\n",
    "    # Handle missing values\n",
    "    imputer = SimpleImputer(strategy='mean')\n",
    "    X_train = imputer.fit_transform(X_train)\n",
    "    X_test = imputer.transform(X_test)\n",
    "\n",
    "    # Scale the data\n",
    "    scaler = StandardScaler()\n",
    "    X_train = scaler.fit_transform(X_train)\n",
    "    X_test = scaler.transform(X_test)\n",
    "\n",
    "    # Load the ensemble models\n",
    "    models = load_models(model_paths)\n",
    "\n",
    "    # Make predictions using ensemble voting on the test set\n",
    "    final_predictions = ensemble_voting(models, X_test)\n",
    "\n",
    "    # Generate the confusion matrix\n",
    "    cm = confusion_matrix(y_test, final_predictions)\n",
    "\n",
    "    # Calculate the accuracy\n",
    "    accuracy = accuracy_score(y_test, final_predictions)\n",
    "    \n",
    "    # Calculate the AUC\n",
    "    auc = roc_auc_score(y_test, final_predictions)\n",
    "\n",
    "    # Calculate the log loss using one of the models (assuming they have similar outputs)\n",
    "    logloss = log_loss(y_test, models[0].predict_proba(X_test))\n",
    "\n",
    "    # Print the confusion matrix, accuracy, AUC, and log loss\n",
    "    print(\"Confusion Matrix:\")\n",
    "    print(cm)\n",
    "    print(\"Accuracy: {:.8f}\".format(accuracy))\n",
    "    print(\"AUC: {:.8f}\".format(auc))\n",
    "    print(\"Log Loss: {:.4f}\".format(logloss))\n",
    "    \n",
    "    # Calculate the predicted probabilities for ensemble voting\n",
    "    ensemble_probs = np.mean([model.predict_proba(X_test) for model in models], axis=0)\n",
    "\n",
    "    # Plot the ROC curve for ensemble predictions\n",
    "    plot_roc_curve(y_test, ensemble_probs[:, 1])\n",
    "\n",
    "if __name__ == \"__main__\":\n",
    "    dataset_path = DATA  # Replace with the actual path to your dataset\n",
    "    model_paths = [MODEL_NN, MODEL_DT, MODEL_ET, MODEL_AdaB, MODEL_GB] # Replace with the paths to your .pkl models\n",
    "    main(dataset_path, model_paths)\n"
   ]
  }
 ],
 "metadata": {
  "kernelspec": {
   "display_name": "Python 3 (ipykernel)",
   "language": "python",
   "name": "python3"
  },
  "language_info": {
   "codemirror_mode": {
    "name": "ipython",
    "version": 3
   },
   "file_extension": ".py",
   "mimetype": "text/x-python",
   "name": "python",
   "nbconvert_exporter": "python",
   "pygments_lexer": "ipython3",
   "version": "3.11.5"
  }
 },
 "nbformat": 4,
 "nbformat_minor": 5
}
