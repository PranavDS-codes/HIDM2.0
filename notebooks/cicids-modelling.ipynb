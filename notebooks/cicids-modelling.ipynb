{
 "cells": [
  {
   "cell_type": "code",
   "execution_count": 10,
   "id": "e2ab7a9c-dbd2-4822-865b-8c8d9d040747",
   "metadata": {},
   "outputs": [],
   "source": [
    "DATA = r\"C:\\Users\\KIIT\\01_ONGC\\Intrusion Detection Datasets\\Labelled\\binary2_cleaned_combined_file.csv\""
   ]
  },
  {
   "cell_type": "code",
   "execution_count": 17,
   "id": "ff5039fc-2f18-4fbb-9abc-77965595a69e",
   "metadata": {},
   "outputs": [],
   "source": [
    "import pandas as pd\n",
    "import numpy as np\n",
    "from sklearn.ensemble import RandomForestClassifier\n",
    "from sklearn.metrics import accuracy_score, roc_auc_score, classification_report, matthews_corrcoef, log_loss, confusion_matrix\n",
    "from sklearn.impute import SimpleImputer\n",
    "from sklearn.preprocessing import StandardScaler\n",
    "from sklearn.model_selection import train_test_split\n",
    "import time\n",
    "import joblib"
   ]
  },
  {
   "cell_type": "code",
   "execution_count": 18,
   "id": "c22f14d8-83a6-4531-98b4-40570d96771f",
   "metadata": {},
   "outputs": [
    {
     "name": "stderr",
     "output_type": "stream",
     "text": [
      "C:\\ProgramData\\anaconda3\\Lib\\site-packages\\numpy\\core\\_methods.py:49: RuntimeWarning: overflow encountered in reduce\n",
      "  return umr_sum(a, axis, dtype, out, keepdims, initial, where)\n"
     ]
    }
   ],
   "source": [
    "# Load the dataset from a CSV file and split into train and test sets\n",
    "def load_and_split_dataset(file_path, test_size=0.2, random_state=42):\n",
    "    df = pd.read_csv(file_path)\n",
    "    X = df.drop('Label', axis=1).values\n",
    "    y = df['Label'].values\n",
    "    X_train, X_test, y_train, y_test = train_test_split(X, y, test_size=test_size, random_state=random_state)\n",
    "    return X_train, X_test, y_train, y_test\n",
    "\n",
    "# Specify the path to the dataset CSV file\n",
    "dataset_path = DATA\n",
    "\n",
    "# Load and split the dataset\n",
    "X_train, X_test, y_train, y_test = load_and_split_dataset(dataset_path)\n",
    "\n",
    "# Handle infinite and large values\n",
    "X_train[np.isinf(X_train)] = np.finfo('float64').max  # Replace infinite values with a large finite value\n",
    "X_test[np.isinf(X_test)] = np.finfo('float64').max  # Replace infinite values with a large finite value\n",
    "\n",
    "# Handle missing values\n",
    "imputer = SimpleImputer(strategy='mean')\n",
    "X_train = imputer.fit_transform(X_train)\n",
    "X_test = imputer.transform(X_test)\n",
    "\n",
    "# Scale the data\n",
    "scaler = StandardScaler()\n",
    "X_train = scaler.fit_transform(X_train)\n",
    "X_test = scaler.transform(X_test)"
   ]
  },
  {
   "cell_type": "markdown",
   "id": "c956ce53-8443-4afc-b8b6-73d0911c3ba2",
   "metadata": {},
   "source": [
    "### Random Forest"
   ]
  },
  {
   "cell_type": "code",
   "execution_count": 19,
   "id": "0752ed3d-f9f9-4ebe-ab7b-05aee3abd071",
   "metadata": {},
   "outputs": [
    {
     "data": {
      "text/html": [
       "<style>#sk-container-id-2 {color: black;background-color: white;}#sk-container-id-2 pre{padding: 0;}#sk-container-id-2 div.sk-toggleable {background-color: white;}#sk-container-id-2 label.sk-toggleable__label {cursor: pointer;display: block;width: 100%;margin-bottom: 0;padding: 0.3em;box-sizing: border-box;text-align: center;}#sk-container-id-2 label.sk-toggleable__label-arrow:before {content: \"▸\";float: left;margin-right: 0.25em;color: #696969;}#sk-container-id-2 label.sk-toggleable__label-arrow:hover:before {color: black;}#sk-container-id-2 div.sk-estimator:hover label.sk-toggleable__label-arrow:before {color: black;}#sk-container-id-2 div.sk-toggleable__content {max-height: 0;max-width: 0;overflow: hidden;text-align: left;background-color: #f0f8ff;}#sk-container-id-2 div.sk-toggleable__content pre {margin: 0.2em;color: black;border-radius: 0.25em;background-color: #f0f8ff;}#sk-container-id-2 input.sk-toggleable__control:checked~div.sk-toggleable__content {max-height: 200px;max-width: 100%;overflow: auto;}#sk-container-id-2 input.sk-toggleable__control:checked~label.sk-toggleable__label-arrow:before {content: \"▾\";}#sk-container-id-2 div.sk-estimator input.sk-toggleable__control:checked~label.sk-toggleable__label {background-color: #d4ebff;}#sk-container-id-2 div.sk-label input.sk-toggleable__control:checked~label.sk-toggleable__label {background-color: #d4ebff;}#sk-container-id-2 input.sk-hidden--visually {border: 0;clip: rect(1px 1px 1px 1px);clip: rect(1px, 1px, 1px, 1px);height: 1px;margin: -1px;overflow: hidden;padding: 0;position: absolute;width: 1px;}#sk-container-id-2 div.sk-estimator {font-family: monospace;background-color: #f0f8ff;border: 1px dotted black;border-radius: 0.25em;box-sizing: border-box;margin-bottom: 0.5em;}#sk-container-id-2 div.sk-estimator:hover {background-color: #d4ebff;}#sk-container-id-2 div.sk-parallel-item::after {content: \"\";width: 100%;border-bottom: 1px solid gray;flex-grow: 1;}#sk-container-id-2 div.sk-label:hover label.sk-toggleable__label {background-color: #d4ebff;}#sk-container-id-2 div.sk-serial::before {content: \"\";position: absolute;border-left: 1px solid gray;box-sizing: border-box;top: 0;bottom: 0;left: 50%;z-index: 0;}#sk-container-id-2 div.sk-serial {display: flex;flex-direction: column;align-items: center;background-color: white;padding-right: 0.2em;padding-left: 0.2em;position: relative;}#sk-container-id-2 div.sk-item {position: relative;z-index: 1;}#sk-container-id-2 div.sk-parallel {display: flex;align-items: stretch;justify-content: center;background-color: white;position: relative;}#sk-container-id-2 div.sk-item::before, #sk-container-id-2 div.sk-parallel-item::before {content: \"\";position: absolute;border-left: 1px solid gray;box-sizing: border-box;top: 0;bottom: 0;left: 50%;z-index: -1;}#sk-container-id-2 div.sk-parallel-item {display: flex;flex-direction: column;z-index: 1;position: relative;background-color: white;}#sk-container-id-2 div.sk-parallel-item:first-child::after {align-self: flex-end;width: 50%;}#sk-container-id-2 div.sk-parallel-item:last-child::after {align-self: flex-start;width: 50%;}#sk-container-id-2 div.sk-parallel-item:only-child::after {width: 0;}#sk-container-id-2 div.sk-dashed-wrapped {border: 1px dashed gray;margin: 0 0.4em 0.5em 0.4em;box-sizing: border-box;padding-bottom: 0.4em;background-color: white;}#sk-container-id-2 div.sk-label label {font-family: monospace;font-weight: bold;display: inline-block;line-height: 1.2em;}#sk-container-id-2 div.sk-label-container {text-align: center;}#sk-container-id-2 div.sk-container {/* jupyter's `normalize.less` sets `[hidden] { display: none; }` but bootstrap.min.css set `[hidden] { display: none !important; }` so we also need the `!important` here to be able to override the default hidden behavior on the sphinx rendered scikit-learn.org. See: https://github.com/scikit-learn/scikit-learn/issues/21755 */display: inline-block !important;position: relative;}#sk-container-id-2 div.sk-text-repr-fallback {display: none;}</style><div id=\"sk-container-id-2\" class=\"sk-top-container\"><div class=\"sk-text-repr-fallback\"><pre>RandomForestClassifier(max_depth=6, min_samples_split=6, n_estimators=192,\n",
       "                       random_state=96)</pre><b>In a Jupyter environment, please rerun this cell to show the HTML representation or trust the notebook. <br />On GitHub, the HTML representation is unable to render, please try loading this page with nbviewer.org.</b></div><div class=\"sk-container\" hidden><div class=\"sk-item\"><div class=\"sk-estimator sk-toggleable\"><input class=\"sk-toggleable__control sk-hidden--visually\" id=\"sk-estimator-id-2\" type=\"checkbox\" checked><label for=\"sk-estimator-id-2\" class=\"sk-toggleable__label sk-toggleable__label-arrow\">RandomForestClassifier</label><div class=\"sk-toggleable__content\"><pre>RandomForestClassifier(max_depth=6, min_samples_split=6, n_estimators=192,\n",
       "                       random_state=96)</pre></div></div></div></div></div>"
      ],
      "text/plain": [
       "RandomForestClassifier(max_depth=6, min_samples_split=6, n_estimators=192,\n",
       "                       random_state=96)"
      ]
     },
     "execution_count": 19,
     "metadata": {},
     "output_type": "execute_result"
    }
   ],
   "source": [
    "# Define the hyperparameters\n",
    "n_estimators = 192\n",
    "max_depth = 6\n",
    "min_samples_split = 6\n",
    "random_state = 96\n",
    "\n",
    "# Create a Random Forest classifier\n",
    "classifier = RandomForestClassifier(\n",
    "    n_estimators=n_estimators,\n",
    "    max_depth=max_depth,\n",
    "    min_samples_split=min_samples_split,\n",
    "    random_state=random_state\n",
    ")\n",
    "\n",
    "# Train the classifier on the training data\n",
    "classifier.fit(X_train, y_train)"
   ]
  },
  {
   "cell_type": "code",
   "execution_count": 20,
   "id": "92d882e5-5822-478e-b7b7-bc15db55dd02",
   "metadata": {},
   "outputs": [],
   "source": [
    "# Make predictions on the testing data\n",
    "predictions = classifier.predict(X_test)"
   ]
  },
  {
   "cell_type": "code",
   "execution_count": 21,
   "id": "48b2fe80-3eb6-4cea-b27e-d72cdc5644ec",
   "metadata": {},
   "outputs": [
    {
     "name": "stdout",
     "output_type": "stream",
     "text": [
      "AUC: 0.9510\n",
      "Classification Report:\n",
      "               precision    recall  f1-score   support\n",
      "\n",
      "           0       1.00      0.90      0.95      5257\n",
      "           1       0.97      1.00      0.99     18730\n",
      "\n",
      "    accuracy                           0.98     23987\n",
      "   macro avg       0.99      0.95      0.97     23987\n",
      "weighted avg       0.98      0.98      0.98     23987\n",
      "\n",
      "Accuracy: 0.9781\n",
      "MCC: 0.9356\n",
      "Log Loss: 0.0637\n",
      "Confusion Matrix:\n",
      "[[ 4746   511]\n",
      " [   14 18716]]\n"
     ]
    }
   ],
   "source": [
    "# Calculate evaluation metrics\n",
    "auc = roc_auc_score(y_test, predictions)\n",
    "classification = classification_report(y_test, predictions)\n",
    "accuracy = accuracy_score(y_test, predictions)\n",
    "mcc = matthews_corrcoef(y_test, predictions)\n",
    "logloss = log_loss(y_test, classifier.predict_proba(X_test))\n",
    "\n",
    "# Print the evaluation metrics\n",
    "print(\"AUC: {:.4f}\".format(auc))\n",
    "print(\"Classification Report:\\n\", classification)\n",
    "print(\"Accuracy: {:.4f}\".format(accuracy))\n",
    "print(\"MCC: {:.4f}\".format(mcc))\n",
    "print(\"Log Loss: {:.4f}\".format(logloss))\n",
    "\n",
    "from sklearn.metrics import confusion_matrix\n",
    "# Calculate the confusion matrix\n",
    "conf_matrix = confusion_matrix(y_test, predictions)\n",
    "\n",
    "# Print the confusion matrix\n",
    "print(\"Confusion Matrix:\")\n",
    "print(conf_matrix)\n",
    "\n",
    "# import joblib\n",
    "\n",
    "# # Save the trained classifier model to a file\n",
    "# model_filename = r\"C:\\Users\\KIIT\\Desktop\\SEM-VII\\Major Project\\CICIDS\\RF.pkl\"\n",
    "# joblib.dump(classifier, model_filename)"
   ]
  },
  {
   "cell_type": "markdown",
   "id": "afbfbe00-f26d-45ac-a8ed-22e559415885",
   "metadata": {},
   "source": [
    "### Gradient Boosting Classifier"
   ]
  },
  {
   "cell_type": "code",
   "execution_count": 22,
   "id": "98c663fb-0732-4e13-b53f-f4295c23c3a2",
   "metadata": {},
   "outputs": [
    {
     "data": {
      "text/html": [
       "<style>#sk-container-id-3 {color: black;background-color: white;}#sk-container-id-3 pre{padding: 0;}#sk-container-id-3 div.sk-toggleable {background-color: white;}#sk-container-id-3 label.sk-toggleable__label {cursor: pointer;display: block;width: 100%;margin-bottom: 0;padding: 0.3em;box-sizing: border-box;text-align: center;}#sk-container-id-3 label.sk-toggleable__label-arrow:before {content: \"▸\";float: left;margin-right: 0.25em;color: #696969;}#sk-container-id-3 label.sk-toggleable__label-arrow:hover:before {color: black;}#sk-container-id-3 div.sk-estimator:hover label.sk-toggleable__label-arrow:before {color: black;}#sk-container-id-3 div.sk-toggleable__content {max-height: 0;max-width: 0;overflow: hidden;text-align: left;background-color: #f0f8ff;}#sk-container-id-3 div.sk-toggleable__content pre {margin: 0.2em;color: black;border-radius: 0.25em;background-color: #f0f8ff;}#sk-container-id-3 input.sk-toggleable__control:checked~div.sk-toggleable__content {max-height: 200px;max-width: 100%;overflow: auto;}#sk-container-id-3 input.sk-toggleable__control:checked~label.sk-toggleable__label-arrow:before {content: \"▾\";}#sk-container-id-3 div.sk-estimator input.sk-toggleable__control:checked~label.sk-toggleable__label {background-color: #d4ebff;}#sk-container-id-3 div.sk-label input.sk-toggleable__control:checked~label.sk-toggleable__label {background-color: #d4ebff;}#sk-container-id-3 input.sk-hidden--visually {border: 0;clip: rect(1px 1px 1px 1px);clip: rect(1px, 1px, 1px, 1px);height: 1px;margin: -1px;overflow: hidden;padding: 0;position: absolute;width: 1px;}#sk-container-id-3 div.sk-estimator {font-family: monospace;background-color: #f0f8ff;border: 1px dotted black;border-radius: 0.25em;box-sizing: border-box;margin-bottom: 0.5em;}#sk-container-id-3 div.sk-estimator:hover {background-color: #d4ebff;}#sk-container-id-3 div.sk-parallel-item::after {content: \"\";width: 100%;border-bottom: 1px solid gray;flex-grow: 1;}#sk-container-id-3 div.sk-label:hover label.sk-toggleable__label {background-color: #d4ebff;}#sk-container-id-3 div.sk-serial::before {content: \"\";position: absolute;border-left: 1px solid gray;box-sizing: border-box;top: 0;bottom: 0;left: 50%;z-index: 0;}#sk-container-id-3 div.sk-serial {display: flex;flex-direction: column;align-items: center;background-color: white;padding-right: 0.2em;padding-left: 0.2em;position: relative;}#sk-container-id-3 div.sk-item {position: relative;z-index: 1;}#sk-container-id-3 div.sk-parallel {display: flex;align-items: stretch;justify-content: center;background-color: white;position: relative;}#sk-container-id-3 div.sk-item::before, #sk-container-id-3 div.sk-parallel-item::before {content: \"\";position: absolute;border-left: 1px solid gray;box-sizing: border-box;top: 0;bottom: 0;left: 50%;z-index: -1;}#sk-container-id-3 div.sk-parallel-item {display: flex;flex-direction: column;z-index: 1;position: relative;background-color: white;}#sk-container-id-3 div.sk-parallel-item:first-child::after {align-self: flex-end;width: 50%;}#sk-container-id-3 div.sk-parallel-item:last-child::after {align-self: flex-start;width: 50%;}#sk-container-id-3 div.sk-parallel-item:only-child::after {width: 0;}#sk-container-id-3 div.sk-dashed-wrapped {border: 1px dashed gray;margin: 0 0.4em 0.5em 0.4em;box-sizing: border-box;padding-bottom: 0.4em;background-color: white;}#sk-container-id-3 div.sk-label label {font-family: monospace;font-weight: bold;display: inline-block;line-height: 1.2em;}#sk-container-id-3 div.sk-label-container {text-align: center;}#sk-container-id-3 div.sk-container {/* jupyter's `normalize.less` sets `[hidden] { display: none; }` but bootstrap.min.css set `[hidden] { display: none !important; }` so we also need the `!important` here to be able to override the default hidden behavior on the sphinx rendered scikit-learn.org. See: https://github.com/scikit-learn/scikit-learn/issues/21755 */display: inline-block !important;position: relative;}#sk-container-id-3 div.sk-text-repr-fallback {display: none;}</style><div id=\"sk-container-id-3\" class=\"sk-top-container\"><div class=\"sk-text-repr-fallback\"><pre>GradientBoostingClassifier()</pre><b>In a Jupyter environment, please rerun this cell to show the HTML representation or trust the notebook. <br />On GitHub, the HTML representation is unable to render, please try loading this page with nbviewer.org.</b></div><div class=\"sk-container\" hidden><div class=\"sk-item\"><div class=\"sk-estimator sk-toggleable\"><input class=\"sk-toggleable__control sk-hidden--visually\" id=\"sk-estimator-id-3\" type=\"checkbox\" checked><label for=\"sk-estimator-id-3\" class=\"sk-toggleable__label sk-toggleable__label-arrow\">GradientBoostingClassifier</label><div class=\"sk-toggleable__content\"><pre>GradientBoostingClassifier()</pre></div></div></div></div></div>"
      ],
      "text/plain": [
       "GradientBoostingClassifier()"
      ]
     },
     "execution_count": 22,
     "metadata": {},
     "output_type": "execute_result"
    }
   ],
   "source": [
    "## STEP 4\n",
    "# Create a Gradient Boosting classifier\n",
    "classifier = GradientBoostingClassifier()\n",
    "\n",
    "# Train the classifier on the training data\n",
    "classifier.fit(X_train, y_train)"
   ]
  },
  {
   "cell_type": "code",
   "execution_count": 23,
   "id": "750c1624-70d8-42bc-90bf-9019b18a453d",
   "metadata": {},
   "outputs": [],
   "source": [
    "## STEP 5\n",
    "# Make predictions on the testing data\n",
    "predictions = classifier.predict(X_test)"
   ]
  },
  {
   "cell_type": "code",
   "execution_count": 24,
   "id": "07212bb9-c3e2-47d0-967f-743ed4be88b8",
   "metadata": {},
   "outputs": [
    {
     "name": "stdout",
     "output_type": "stream",
     "text": [
      "AUC: 0.9961\n",
      "Classification Report:\n",
      "               precision    recall  f1-score   support\n",
      "\n",
      "           0       1.00      0.99      0.99      5257\n",
      "           1       1.00      1.00      1.00     18730\n",
      "\n",
      "    accuracy                           1.00     23987\n",
      "   macro avg       1.00      1.00      1.00     23987\n",
      "weighted avg       1.00      1.00      1.00     23987\n",
      "\n",
      "Accuracy: 0.9976\n",
      "MCC: 0.9929\n",
      "Log Loss: 0.0138\n",
      "Confusion Matrix:\n",
      "[[ 5222    35]\n",
      " [   23 18707]]\n"
     ]
    }
   ],
   "source": [
    "# Calculate evaluation metrics\n",
    "auc = roc_auc_score(y_test, predictions)\n",
    "classification = classification_report(y_test, predictions)\n",
    "accuracy = accuracy_score(y_test, predictions)\n",
    "mcc = matthews_corrcoef(y_test, predictions)\n",
    "logloss = log_loss(y_test, classifier.predict_proba(X_test))\n",
    "\n",
    "# Print the evaluation metrics\n",
    "print(\"AUC: {:.4f}\".format(auc))\n",
    "print(\"Classification Report:\\n\", classification)\n",
    "print(\"Accuracy: {:.4f}\".format(accuracy))\n",
    "print(\"MCC: {:.4f}\".format(mcc))\n",
    "print(\"Log Loss: {:.4f}\".format(logloss))\n",
    "\n",
    "from sklearn.metrics import confusion_matrix\n",
    "# Calculate the confusion matrix\n",
    "conf_matrix = confusion_matrix(y_test, predictions)\n",
    "\n",
    "# Print the confusion matrix\n",
    "print(\"Confusion Matrix:\")\n",
    "print(conf_matrix)\n",
    "\n",
    "# import joblib\n",
    "\n",
    "# # Save the trained classifier model to a file\n",
    "# model_filename = r\"C:\\Users\\KIIT\\Desktop\\SEM-VII\\Major Project\\CICIDS\\RF.pkl\"\n",
    "# joblib.dump(classifier, model_filename)"
   ]
  },
  {
   "cell_type": "markdown",
   "id": "32158c15-817a-4bdb-ad40-45a4687ecb70",
   "metadata": {},
   "source": [
    "### Decision Tree"
   ]
  },
  {
   "cell_type": "code",
   "execution_count": 26,
   "id": "9e81de1c-e939-4a2b-8132-0bd2e48307ee",
   "metadata": {},
   "outputs": [],
   "source": [
    "from sklearn.tree import DecisionTreeClassifier\n",
    "# Create a Decision Tree classifier\n",
    "classifier = DecisionTreeClassifier()\n",
    "\n",
    "# Train the classifier on the training data\n",
    "classifier.fit(X_train, y_train)\n",
    "\n",
    "# Make predictions on the testing data\n",
    "predictions = classifier.predict(X_test)"
   ]
  },
  {
   "cell_type": "code",
   "execution_count": 27,
   "id": "856cf599-0c1e-448d-9244-b2da201fbf76",
   "metadata": {},
   "outputs": [
    {
     "name": "stdout",
     "output_type": "stream",
     "text": [
      "AUC: 0.9994\n",
      "Classification Report:\n",
      "               precision    recall  f1-score   support\n",
      "\n",
      "           0       1.00      1.00      1.00      5257\n",
      "           1       1.00      1.00      1.00     18730\n",
      "\n",
      "    accuracy                           1.00     23987\n",
      "   macro avg       1.00      1.00      1.00     23987\n",
      "weighted avg       1.00      1.00      1.00     23987\n",
      "\n",
      "Accuracy: 0.9995\n",
      "MCC: 0.9987\n",
      "Log Loss: 0.0165\n",
      "Confusion Matrix:\n",
      "[[ 5252     5]\n",
      " [    6 18724]]\n"
     ]
    }
   ],
   "source": [
    "# Calculate evaluation metrics\n",
    "auc = roc_auc_score(y_test, predictions)\n",
    "classification = classification_report(y_test, predictions)\n",
    "accuracy = accuracy_score(y_test, predictions)\n",
    "mcc = matthews_corrcoef(y_test, predictions)\n",
    "logloss = log_loss(y_test, classifier.predict_proba(X_test))\n",
    "\n",
    "# Print the evaluation metrics\n",
    "print(\"AUC: {:.4f}\".format(auc))\n",
    "print(\"Classification Report:\\n\", classification)\n",
    "print(\"Accuracy: {:.4f}\".format(accuracy))\n",
    "print(\"MCC: {:.4f}\".format(mcc))\n",
    "print(\"Log Loss: {:.4f}\".format(logloss))\n",
    "\n",
    "from sklearn.metrics import confusion_matrix\n",
    "# Calculate the confusion matrix\n",
    "conf_matrix = confusion_matrix(y_test, predictions)\n",
    "\n",
    "# Print the confusion matrix\n",
    "print(\"Confusion Matrix:\")\n",
    "print(conf_matrix)\n",
    "\n",
    "# import joblib\n",
    "\n",
    "# # Save the trained classifier model to a file\n",
    "# model_filename = r\"C:\\Users\\KIIT\\Desktop\\SEM-VII\\Major Project\\CICIDS\\RF.pkl\"\n",
    "# joblib.dump(classifier, model_filename)"
   ]
  },
  {
   "cell_type": "code",
   "execution_count": 30,
   "id": "a73bd05a-dd3e-4a49-a37f-715092df6f51",
   "metadata": {},
   "outputs": [],
   "source": [
    "### Extremely Randomized Tree"
   ]
  },
  {
   "cell_type": "code",
   "execution_count": 29,
   "id": "4d83c131-da0d-467a-87ad-f359abc7a78e",
   "metadata": {},
   "outputs": [],
   "source": [
    "from sklearn.ensemble import ExtraTreesClassifier\n",
    "# Create an Extra Trees classifier\n",
    "classifier = ExtraTreesClassifier()\n",
    "\n",
    "# Train the classifier on the training data\n",
    "classifier.fit(X_train, y_train)\n",
    "\n",
    "# Make predictions on the testing data\n",
    "predictions = classifier.predict(X_test)\n"
   ]
  },
  {
   "cell_type": "code",
   "execution_count": 31,
   "id": "3b6135f1-19a2-4bc5-bbf4-5063e99acdf5",
   "metadata": {},
   "outputs": [
    {
     "name": "stdout",
     "output_type": "stream",
     "text": [
      "AUC: 0.9991\n",
      "Classification Report:\n",
      "               precision    recall  f1-score   support\n",
      "\n",
      "           0       1.00      1.00      1.00      5257\n",
      "           1       1.00      1.00      1.00     18730\n",
      "\n",
      "    accuracy                           1.00     23987\n",
      "   macro avg       1.00      1.00      1.00     23987\n",
      "weighted avg       1.00      1.00      1.00     23987\n",
      "\n",
      "Accuracy: 0.9993\n",
      "MCC: 0.9979\n",
      "Log Loss: 0.0025\n",
      "Confusion Matrix:\n",
      "[[ 5250     7]\n",
      " [   10 18720]]\n"
     ]
    }
   ],
   "source": [
    "# Calculate evaluation metrics\n",
    "auc = roc_auc_score(y_test, predictions)\n",
    "classification = classification_report(y_test, predictions)\n",
    "accuracy = accuracy_score(y_test, predictions)\n",
    "mcc = matthews_corrcoef(y_test, predictions)\n",
    "logloss = log_loss(y_test, classifier.predict_proba(X_test))\n",
    "\n",
    "# Print the evaluation metrics\n",
    "print(\"AUC: {:.4f}\".format(auc))\n",
    "print(\"Classification Report:\\n\", classification)\n",
    "print(\"Accuracy: {:.4f}\".format(accuracy))\n",
    "print(\"MCC: {:.4f}\".format(mcc))\n",
    "print(\"Log Loss: {:.4f}\".format(logloss))\n",
    "\n",
    "from sklearn.metrics import confusion_matrix\n",
    "# Calculate the confusion matrix\n",
    "conf_matrix = confusion_matrix(y_test, predictions)\n",
    "\n",
    "# Print the confusion matrix\n",
    "print(\"Confusion Matrix:\")\n",
    "print(conf_matrix)\n",
    "\n",
    "# import joblib\n",
    "\n",
    "# # Save the trained classifier model to a file\n",
    "# model_filename = r\"C:\\Users\\KIIT\\Desktop\\SEM-VII\\Major Project\\CICIDS\\RF.pkl\"\n",
    "# joblib.dump(classifier, model_filename)"
   ]
  },
  {
   "cell_type": "code",
   "execution_count": 34,
   "id": "2d8d1b99-0327-4625-a333-7c0d3b458141",
   "metadata": {},
   "outputs": [],
   "source": [
    "### AdaBoost"
   ]
  },
  {
   "cell_type": "code",
   "execution_count": 32,
   "id": "03192073-ce93-46a0-a083-d3b6ec153edb",
   "metadata": {},
   "outputs": [],
   "source": [
    "from sklearn.ensemble import AdaBoostClassifier\n",
    "# Create an AdaBoost classifier\n",
    "classifier = AdaBoostClassifier()\n",
    "\n",
    "# Train the classifier on the training data\n",
    "classifier.fit(X_train, y_train)\n",
    "\n",
    "# Make predictions on the testing data\n",
    "predictions = classifier.predict(X_test)"
   ]
  },
  {
   "cell_type": "code",
   "execution_count": 33,
   "id": "ee04672c-12fe-4993-8270-c88d88cd8d08",
   "metadata": {},
   "outputs": [
    {
     "name": "stdout",
     "output_type": "stream",
     "text": [
      "AUC: 0.9902\n",
      "Classification Report:\n",
      "               precision    recall  f1-score   support\n",
      "\n",
      "           0       0.99      0.98      0.99      5257\n",
      "           1       1.00      1.00      1.00     18730\n",
      "\n",
      "    accuracy                           0.99     23987\n",
      "   macro avg       0.99      0.99      0.99     23987\n",
      "weighted avg       0.99      0.99      0.99     23987\n",
      "\n",
      "Accuracy: 0.9936\n",
      "MCC: 0.9813\n",
      "Log Loss: 0.6006\n",
      "Confusion Matrix:\n",
      "[[ 5173    84]\n",
      " [   69 18661]]\n"
     ]
    }
   ],
   "source": [
    "# Calculate evaluation metrics\n",
    "auc = roc_auc_score(y_test, predictions)\n",
    "classification = classification_report(y_test, predictions)\n",
    "accuracy = accuracy_score(y_test, predictions)\n",
    "mcc = matthews_corrcoef(y_test, predictions)\n",
    "logloss = log_loss(y_test, classifier.predict_proba(X_test))\n",
    "\n",
    "# Print the evaluation metrics\n",
    "print(\"AUC: {:.4f}\".format(auc))\n",
    "print(\"Classification Report:\\n\", classification)\n",
    "print(\"Accuracy: {:.4f}\".format(accuracy))\n",
    "print(\"MCC: {:.4f}\".format(mcc))\n",
    "print(\"Log Loss: {:.4f}\".format(logloss))\n",
    "\n",
    "from sklearn.metrics import confusion_matrix\n",
    "# Calculate the confusion matrix\n",
    "conf_matrix = confusion_matrix(y_test, predictions)\n",
    "\n",
    "# Print the confusion matrix\n",
    "print(\"Confusion Matrix:\")\n",
    "print(conf_matrix)\n",
    "\n",
    "# import joblib\n",
    "\n",
    "# # Save the trained classifier model to a file\n",
    "# model_filename = r\"C:\\Users\\KIIT\\Desktop\\SEM-VII\\Major Project\\CICIDS\\RF.pkl\"\n",
    "# joblib.dump(classifier, model_filename)"
   ]
  },
  {
   "cell_type": "markdown",
   "id": "6f70020b-2170-4bb7-9ff5-98b47ac2b44f",
   "metadata": {},
   "source": [
    "### Neural Network"
   ]
  },
  {
   "cell_type": "code",
   "execution_count": 35,
   "id": "53d557aa-3c6f-4a55-85ef-db1d8c2d6826",
   "metadata": {},
   "outputs": [
    {
     "name": "stdout",
     "output_type": "stream",
     "text": [
      "WARNING:tensorflow:From C:\\ProgramData\\anaconda3\\Lib\\site-packages\\keras\\src\\losses.py:2976: The name tf.losses.sparse_softmax_cross_entropy is deprecated. Please use tf.compat.v1.losses.sparse_softmax_cross_entropy instead.\n",
      "\n",
      "WARNING:tensorflow:From C:\\ProgramData\\anaconda3\\Lib\\site-packages\\keras\\src\\backend.py:873: The name tf.get_default_graph is deprecated. Please use tf.compat.v1.get_default_graph instead.\n",
      "\n",
      "WARNING:tensorflow:From C:\\ProgramData\\anaconda3\\Lib\\site-packages\\keras\\src\\optimizers\\__init__.py:309: The name tf.train.Optimizer is deprecated. Please use tf.compat.v1.train.Optimizer instead.\n",
      "\n",
      "Epoch 1/10\n",
      "WARNING:tensorflow:From C:\\ProgramData\\anaconda3\\Lib\\site-packages\\keras\\src\\utils\\tf_utils.py:492: The name tf.ragged.RaggedTensorValue is deprecated. Please use tf.compat.v1.ragged.RaggedTensorValue instead.\n",
      "\n",
      "WARNING:tensorflow:From C:\\ProgramData\\anaconda3\\Lib\\site-packages\\keras\\src\\engine\\base_layer_utils.py:384: The name tf.executing_eagerly_outside_functions is deprecated. Please use tf.compat.v1.executing_eagerly_outside_functions instead.\n",
      "\n",
      "2999/2999 [==============================] - 13s 3ms/step - loss: 0.0482 - accuracy: 0.9855\n",
      "Epoch 2/10\n",
      "2999/2999 [==============================] - 8s 3ms/step - loss: 0.0249 - accuracy: 0.9929\n",
      "Epoch 3/10\n",
      "2999/2999 [==============================] - 10s 3ms/step - loss: 0.0198 - accuracy: 0.9943\n",
      "Epoch 4/10\n",
      "2999/2999 [==============================] - 9s 3ms/step - loss: 0.0176 - accuracy: 0.9951\n",
      "Epoch 5/10\n",
      "2999/2999 [==============================] - 9s 3ms/step - loss: 0.0171 - accuracy: 0.9956\n",
      "Epoch 6/10\n",
      "2999/2999 [==============================] - 9s 3ms/step - loss: 0.0152 - accuracy: 0.9958\n",
      "Epoch 7/10\n",
      "2999/2999 [==============================] - 12s 4ms/step - loss: 0.0150 - accuracy: 0.9957\n",
      "Epoch 8/10\n",
      "2999/2999 [==============================] - 9s 3ms/step - loss: 0.0151 - accuracy: 0.9959\n",
      "Epoch 9/10\n",
      "2999/2999 [==============================] - 8s 3ms/step - loss: 0.0133 - accuracy: 0.9961\n",
      "Epoch 10/10\n",
      "2999/2999 [==============================] - 11s 4ms/step - loss: 0.0138 - accuracy: 0.9961\n",
      "750/750 [==============================] - 2s 2ms/step\n"
     ]
    }
   ],
   "source": [
    "from keras.models import Sequential\n",
    "from keras.layers import Dense\n",
    "\n",
    "# Create a neural network classifier\n",
    "model = Sequential()\n",
    "model.add(Dense(128, activation='relu', input_dim=X_train.shape[1]))\n",
    "model.add(Dense(64, activation='relu'))\n",
    "model.add(Dense(1, activation='sigmoid'))\n",
    "\n",
    "# Compile the model\n",
    "model.compile(optimizer='adam', loss='binary_crossentropy', metrics=['accuracy'])\n",
    "\n",
    "\n",
    "# Train the classifier on the training data\n",
    "model.fit(X_train, y_train, epochs=10, batch_size=32, verbose=1)\n",
    "\n",
    "# Make predictions on the testing data\n",
    "predictions = (model.predict(X_test) > 0.5).astype(int).flatten()"
   ]
  },
  {
   "cell_type": "code",
   "execution_count": 36,
   "id": "f7582c6d-6aec-4832-8964-38e960384f01",
   "metadata": {},
   "outputs": [
    {
     "name": "stdout",
     "output_type": "stream",
     "text": [
      "750/750 [==============================] - 1s 1ms/step\n",
      "AUC: 0.9945\n",
      "Classification Report:\n",
      "               precision    recall  f1-score   support\n",
      "\n",
      "           0       0.99      0.99      0.99      5257\n",
      "           1       1.00      1.00      1.00     18730\n",
      "\n",
      "    accuracy                           1.00     23987\n",
      "   macro avg       0.99      0.99      0.99     23987\n",
      "weighted avg       1.00      1.00      1.00     23987\n",
      "\n",
      "Accuracy: 0.9964\n",
      "MCC: 0.9894\n",
      "Log Loss: 0.0127\n",
      "Confusion Matrix:\n",
      "[[ 5210    47]\n",
      " [   40 18690]]\n"
     ]
    }
   ],
   "source": [
    "# Calculate evaluation metrics\n",
    "auc = roc_auc_score(y_test, predictions)\n",
    "classification = classification_report(y_test, predictions)\n",
    "accuracy = accuracy_score(y_test, predictions)\n",
    "mcc = matthews_corrcoef(y_test, predictions)\n",
    "logloss = log_loss(y_test, model.predict(X_test))\n",
    "\n",
    "# Print the evaluation metrics\n",
    "print(\"AUC: {:.4f}\".format(auc))\n",
    "print(\"Classification Report:\\n\", classification)\n",
    "print(\"Accuracy: {:.4f}\".format(accuracy))\n",
    "print(\"MCC: {:.4f}\".format(mcc))\n",
    "print(\"Log Loss: {:.4f}\".format(logloss))\n",
    "\n",
    "from sklearn.metrics import confusion_matrix\n",
    "# Calculate the confusion matrix\n",
    "conf_matrix = confusion_matrix(y_test, predictions)\n",
    "\n",
    "# Print the confusion matrix\n",
    "print(\"Confusion Matrix:\")\n",
    "print(conf_matrix)\n",
    "\n",
    "# import joblib\n",
    "\n",
    "# # Save the trained classifier model to a file\n",
    "# model_filename = r\"C:\\Users\\KIIT\\Desktop\\SEM-VII\\Major Project\\CICIDS\\NN.pkl\"\n",
    "# joblib.dump(classifier, model_filename)"
   ]
  },
  {
   "cell_type": "code",
   "execution_count": null,
   "id": "ca483398-7c48-43ed-8a9b-8378f625b713",
   "metadata": {},
   "outputs": [],
   "source": []
  }
 ],
 "metadata": {
  "kernelspec": {
   "display_name": "Python 3 (ipykernel)",
   "language": "python",
   "name": "python3"
  },
  "language_info": {
   "codemirror_mode": {
    "name": "ipython",
    "version": 3
   },
   "file_extension": ".py",
   "mimetype": "text/x-python",
   "name": "python",
   "nbconvert_exporter": "python",
   "pygments_lexer": "ipython3",
   "version": "3.11.5"
  }
 },
 "nbformat": 4,
 "nbformat_minor": 5
}
